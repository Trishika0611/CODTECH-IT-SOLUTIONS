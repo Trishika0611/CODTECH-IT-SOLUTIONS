{
  "nbformat": 4,
  "nbformat_minor": 0,
  "metadata": {
    "colab": {
      "provenance": [],
      "gpuType": "T4",
      "authorship_tag": "ABX9TyPQP2bs0+9AocSptRQQL0m9",
      "include_colab_link": true
    },
    "kernelspec": {
      "name": "python3",
      "display_name": "Python 3"
    },
    "language_info": {
      "name": "python"
    },
    "accelerator": "GPU"
  },
  "cells": [
    {
      "cell_type": "markdown",
      "metadata": {
        "id": "view-in-github",
        "colab_type": "text"
      },
      "source": [
        "<a href=\"https://colab.research.google.com/github/Trishika0611/CODTECH-IT-SOLUTIONS/blob/main/TASK_4_Recommendation_System.ipynb\" target=\"_parent\"><img src=\"https://colab.research.google.com/assets/colab-badge.svg\" alt=\"Open In Colab\"/></a>"
      ]
    },
    {
      "cell_type": "code",
      "source": [
        "# TASK 4: Recommendation System using Collaborative Filtering\n",
        "\n",
        "import pandas as pd\n",
        "from sklearn.metrics.pairwise import cosine_similarity\n",
        "\n",
        "# Example user-item matrix\n",
        "data = {\n",
        "    'User1': [5, 4, 0, 1],\n",
        "    'User2': [4, 0, 0, 1],\n",
        "    'User3': [1, 1, 0, 5],\n",
        "    'User4': [0, 0, 5, 4],\n",
        "}\n",
        "df = pd.DataFrame(data, index=['Movie1', 'Movie2', 'Movie3', 'Movie4'])\n",
        "\n",
        "# Compute similarity between users\n",
        "similarity = cosine_similarity(df.T)\n",
        "similarity_df = pd.DataFrame(similarity, index=df.columns, columns=df.columns)\n",
        "print(\"\\nUser Similarity Matrix:\\n\", similarity_df)\n",
        "\n",
        "# Predict rating for a missing value using weighted average\n",
        "def predict_rating(user, movie):\n",
        "    similar_users = similarity_df[user]\n",
        "    user_ratings = df.loc[movie]\n",
        "    mask = user_ratings > 0\n",
        "    if mask.sum() == 0:\n",
        "        return 0\n",
        "    pred = (similar_users[mask] * user_ratings[mask]).sum() / similar_users[mask].sum()\n",
        "    return round(pred, 2)\n",
        "\n",
        "print(\"\\nPredicted rating for User1 on Movie3:\", predict_rating('User1', 'Movie3'))\n"
      ],
      "metadata": {
        "colab": {
          "base_uri": "https://localhost:8080/"
        },
        "id": "bBlpfor2gfMi",
        "outputId": "ae9df3a2-7fe9-4f44-cb1b-9c3c9bbd78ef"
      },
      "execution_count": 9,
      "outputs": [
        {
          "output_type": "stream",
          "name": "stdout",
          "text": [
            "\n",
            "User Similarity Matrix:\n",
            "           User1     User2     User3     User4\n",
            "User1  1.000000  0.785905  0.415740  0.096393\n",
            "User2  0.785905  1.000000  0.420084  0.151511\n",
            "User3  0.415740  0.420084  1.000000  0.601113\n",
            "User4  0.096393  0.151511  0.601113  1.000000\n",
            "\n",
            "Predicted rating for User1 on Movie3: 5.0\n"
          ]
        }
      ]
    },
    {
      "cell_type": "code",
      "source": [],
      "metadata": {
        "id": "DywPiVnig62n"
      },
      "execution_count": null,
      "outputs": []
    }
  ]
}